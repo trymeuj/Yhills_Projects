{
 "cells": [
  {
   "cell_type": "code",
   "execution_count": 72,
   "id": "bac47dd3",
   "metadata": {},
   "outputs": [],
   "source": [
    "         ##########  Yhills Project 1 [Concrete dataset] #########"
   ]
  },
  {
   "cell_type": "code",
   "execution_count": 73,
   "id": "58cc8c15",
   "metadata": {},
   "outputs": [],
   "source": [
    "        ######## by Ujjwal Mathur ########"
   ]
  },
  {
   "cell_type": "code",
   "execution_count": 74,
   "id": "009e8453",
   "metadata": {},
   "outputs": [],
   "source": [
    "import pandas as pd\n",
    "import matplotlib.pyplot as plt\n",
    "import seaborn as sns\n",
    "from sklearn.model_selection import train_test_split\n",
    "from sklearn.linear_model import LinearRegression\n",
    "import numpy as np"
   ]
  },
  {
   "cell_type": "code",
   "execution_count": 75,
   "id": "09f42313",
   "metadata": {},
   "outputs": [
    {
     "data": {
      "text/html": [
       "<div>\n",
       "<style scoped>\n",
       "    .dataframe tbody tr th:only-of-type {\n",
       "        vertical-align: middle;\n",
       "    }\n",
       "\n",
       "    .dataframe tbody tr th {\n",
       "        vertical-align: top;\n",
       "    }\n",
       "\n",
       "    .dataframe thead th {\n",
       "        text-align: right;\n",
       "    }\n",
       "</style>\n",
       "<table border=\"1\" class=\"dataframe\">\n",
       "  <thead>\n",
       "    <tr style=\"text-align: right;\">\n",
       "      <th></th>\n",
       "      <th>cement</th>\n",
       "      <th>slag</th>\n",
       "      <th>ash</th>\n",
       "      <th>water</th>\n",
       "      <th>superplastic</th>\n",
       "      <th>coarseagg</th>\n",
       "      <th>fineagg</th>\n",
       "      <th>age</th>\n",
       "      <th>strength</th>\n",
       "    </tr>\n",
       "  </thead>\n",
       "  <tbody>\n",
       "    <tr>\n",
       "      <th>0</th>\n",
       "      <td>141.3</td>\n",
       "      <td>212.0</td>\n",
       "      <td>0.0</td>\n",
       "      <td>203.5</td>\n",
       "      <td>0.0</td>\n",
       "      <td>971.8</td>\n",
       "      <td>748.5</td>\n",
       "      <td>28</td>\n",
       "      <td>29.89</td>\n",
       "    </tr>\n",
       "    <tr>\n",
       "      <th>1</th>\n",
       "      <td>168.9</td>\n",
       "      <td>42.2</td>\n",
       "      <td>124.3</td>\n",
       "      <td>158.3</td>\n",
       "      <td>10.8</td>\n",
       "      <td>1080.8</td>\n",
       "      <td>796.2</td>\n",
       "      <td>14</td>\n",
       "      <td>23.51</td>\n",
       "    </tr>\n",
       "    <tr>\n",
       "      <th>2</th>\n",
       "      <td>250.0</td>\n",
       "      <td>0.0</td>\n",
       "      <td>95.7</td>\n",
       "      <td>187.4</td>\n",
       "      <td>5.5</td>\n",
       "      <td>956.9</td>\n",
       "      <td>861.2</td>\n",
       "      <td>28</td>\n",
       "      <td>29.22</td>\n",
       "    </tr>\n",
       "    <tr>\n",
       "      <th>3</th>\n",
       "      <td>266.0</td>\n",
       "      <td>114.0</td>\n",
       "      <td>0.0</td>\n",
       "      <td>228.0</td>\n",
       "      <td>0.0</td>\n",
       "      <td>932.0</td>\n",
       "      <td>670.0</td>\n",
       "      <td>28</td>\n",
       "      <td>45.85</td>\n",
       "    </tr>\n",
       "    <tr>\n",
       "      <th>4</th>\n",
       "      <td>154.8</td>\n",
       "      <td>183.4</td>\n",
       "      <td>0.0</td>\n",
       "      <td>193.3</td>\n",
       "      <td>9.1</td>\n",
       "      <td>1047.4</td>\n",
       "      <td>696.7</td>\n",
       "      <td>28</td>\n",
       "      <td>18.29</td>\n",
       "    </tr>\n",
       "    <tr>\n",
       "      <th>...</th>\n",
       "      <td>...</td>\n",
       "      <td>...</td>\n",
       "      <td>...</td>\n",
       "      <td>...</td>\n",
       "      <td>...</td>\n",
       "      <td>...</td>\n",
       "      <td>...</td>\n",
       "      <td>...</td>\n",
       "      <td>...</td>\n",
       "    </tr>\n",
       "    <tr>\n",
       "      <th>1025</th>\n",
       "      <td>135.0</td>\n",
       "      <td>0.0</td>\n",
       "      <td>166.0</td>\n",
       "      <td>180.0</td>\n",
       "      <td>10.0</td>\n",
       "      <td>961.0</td>\n",
       "      <td>805.0</td>\n",
       "      <td>28</td>\n",
       "      <td>13.29</td>\n",
       "    </tr>\n",
       "    <tr>\n",
       "      <th>1026</th>\n",
       "      <td>531.3</td>\n",
       "      <td>0.0</td>\n",
       "      <td>0.0</td>\n",
       "      <td>141.8</td>\n",
       "      <td>28.2</td>\n",
       "      <td>852.1</td>\n",
       "      <td>893.7</td>\n",
       "      <td>3</td>\n",
       "      <td>41.30</td>\n",
       "    </tr>\n",
       "    <tr>\n",
       "      <th>1027</th>\n",
       "      <td>276.4</td>\n",
       "      <td>116.0</td>\n",
       "      <td>90.3</td>\n",
       "      <td>179.6</td>\n",
       "      <td>8.9</td>\n",
       "      <td>870.1</td>\n",
       "      <td>768.3</td>\n",
       "      <td>28</td>\n",
       "      <td>44.28</td>\n",
       "    </tr>\n",
       "    <tr>\n",
       "      <th>1028</th>\n",
       "      <td>342.0</td>\n",
       "      <td>38.0</td>\n",
       "      <td>0.0</td>\n",
       "      <td>228.0</td>\n",
       "      <td>0.0</td>\n",
       "      <td>932.0</td>\n",
       "      <td>670.0</td>\n",
       "      <td>270</td>\n",
       "      <td>55.06</td>\n",
       "    </tr>\n",
       "    <tr>\n",
       "      <th>1029</th>\n",
       "      <td>540.0</td>\n",
       "      <td>0.0</td>\n",
       "      <td>0.0</td>\n",
       "      <td>173.0</td>\n",
       "      <td>0.0</td>\n",
       "      <td>1125.0</td>\n",
       "      <td>613.0</td>\n",
       "      <td>7</td>\n",
       "      <td>52.61</td>\n",
       "    </tr>\n",
       "  </tbody>\n",
       "</table>\n",
       "<p>1030 rows × 9 columns</p>\n",
       "</div>"
      ],
      "text/plain": [
       "      cement   slag    ash  water  superplastic  coarseagg  fineagg  age  \\\n",
       "0      141.3  212.0    0.0  203.5           0.0      971.8    748.5   28   \n",
       "1      168.9   42.2  124.3  158.3          10.8     1080.8    796.2   14   \n",
       "2      250.0    0.0   95.7  187.4           5.5      956.9    861.2   28   \n",
       "3      266.0  114.0    0.0  228.0           0.0      932.0    670.0   28   \n",
       "4      154.8  183.4    0.0  193.3           9.1     1047.4    696.7   28   \n",
       "...      ...    ...    ...    ...           ...        ...      ...  ...   \n",
       "1025   135.0    0.0  166.0  180.0          10.0      961.0    805.0   28   \n",
       "1026   531.3    0.0    0.0  141.8          28.2      852.1    893.7    3   \n",
       "1027   276.4  116.0   90.3  179.6           8.9      870.1    768.3   28   \n",
       "1028   342.0   38.0    0.0  228.0           0.0      932.0    670.0  270   \n",
       "1029   540.0    0.0    0.0  173.0           0.0     1125.0    613.0    7   \n",
       "\n",
       "      strength  \n",
       "0        29.89  \n",
       "1        23.51  \n",
       "2        29.22  \n",
       "3        45.85  \n",
       "4        18.29  \n",
       "...        ...  \n",
       "1025     13.29  \n",
       "1026     41.30  \n",
       "1027     44.28  \n",
       "1028     55.06  \n",
       "1029     52.61  \n",
       "\n",
       "[1030 rows x 9 columns]"
      ]
     },
     "execution_count": 75,
     "metadata": {},
     "output_type": "execute_result"
    }
   ],
   "source": [
    "df = pd.read_csv('https://raw.githubusercontent.com/Premalatha-success/Yhills_July12_Analytics/main/concrete.csv')\n",
    "df"
   ]
  },
  {
   "cell_type": "code",
   "execution_count": 76,
   "id": "2ae83925",
   "metadata": {},
   "outputs": [
    {
     "name": "stdout",
     "output_type": "stream",
     "text": [
      "<class 'pandas.core.frame.DataFrame'>\n",
      "RangeIndex: 1030 entries, 0 to 1029\n",
      "Data columns (total 9 columns):\n",
      " #   Column        Non-Null Count  Dtype  \n",
      "---  ------        --------------  -----  \n",
      " 0   cement        1030 non-null   float64\n",
      " 1   slag          1030 non-null   float64\n",
      " 2   ash           1030 non-null   float64\n",
      " 3   water         1030 non-null   float64\n",
      " 4   superplastic  1030 non-null   float64\n",
      " 5   coarseagg     1030 non-null   float64\n",
      " 6   fineagg       1030 non-null   float64\n",
      " 7   age           1030 non-null   int64  \n",
      " 8   strength      1030 non-null   float64\n",
      "dtypes: float64(8), int64(1)\n",
      "memory usage: 72.5 KB\n"
     ]
    }
   ],
   "source": [
    "df.info()"
   ]
  },
  {
   "cell_type": "code",
   "execution_count": 77,
   "id": "e32662bc",
   "metadata": {},
   "outputs": [
    {
     "data": {
      "text/html": [
       "<div>\n",
       "<style scoped>\n",
       "    .dataframe tbody tr th:only-of-type {\n",
       "        vertical-align: middle;\n",
       "    }\n",
       "\n",
       "    .dataframe tbody tr th {\n",
       "        vertical-align: top;\n",
       "    }\n",
       "\n",
       "    .dataframe thead th {\n",
       "        text-align: right;\n",
       "    }\n",
       "</style>\n",
       "<table border=\"1\" class=\"dataframe\">\n",
       "  <thead>\n",
       "    <tr style=\"text-align: right;\">\n",
       "      <th></th>\n",
       "      <th>cement</th>\n",
       "      <th>slag</th>\n",
       "      <th>ash</th>\n",
       "      <th>water</th>\n",
       "      <th>superplastic</th>\n",
       "      <th>coarseagg</th>\n",
       "      <th>fineagg</th>\n",
       "      <th>age</th>\n",
       "      <th>strength</th>\n",
       "    </tr>\n",
       "  </thead>\n",
       "  <tbody>\n",
       "    <tr>\n",
       "      <th>0</th>\n",
       "      <td>141.3</td>\n",
       "      <td>212.0</td>\n",
       "      <td>0.0</td>\n",
       "      <td>203.5</td>\n",
       "      <td>0.0</td>\n",
       "      <td>971.8</td>\n",
       "      <td>748.5</td>\n",
       "      <td>28</td>\n",
       "      <td>29.89</td>\n",
       "    </tr>\n",
       "    <tr>\n",
       "      <th>1</th>\n",
       "      <td>168.9</td>\n",
       "      <td>42.2</td>\n",
       "      <td>124.3</td>\n",
       "      <td>158.3</td>\n",
       "      <td>10.8</td>\n",
       "      <td>1080.8</td>\n",
       "      <td>796.2</td>\n",
       "      <td>14</td>\n",
       "      <td>23.51</td>\n",
       "    </tr>\n",
       "    <tr>\n",
       "      <th>2</th>\n",
       "      <td>250.0</td>\n",
       "      <td>0.0</td>\n",
       "      <td>95.7</td>\n",
       "      <td>187.4</td>\n",
       "      <td>5.5</td>\n",
       "      <td>956.9</td>\n",
       "      <td>861.2</td>\n",
       "      <td>28</td>\n",
       "      <td>29.22</td>\n",
       "    </tr>\n",
       "    <tr>\n",
       "      <th>3</th>\n",
       "      <td>266.0</td>\n",
       "      <td>114.0</td>\n",
       "      <td>0.0</td>\n",
       "      <td>228.0</td>\n",
       "      <td>0.0</td>\n",
       "      <td>932.0</td>\n",
       "      <td>670.0</td>\n",
       "      <td>28</td>\n",
       "      <td>45.85</td>\n",
       "    </tr>\n",
       "    <tr>\n",
       "      <th>4</th>\n",
       "      <td>154.8</td>\n",
       "      <td>183.4</td>\n",
       "      <td>0.0</td>\n",
       "      <td>193.3</td>\n",
       "      <td>9.1</td>\n",
       "      <td>1047.4</td>\n",
       "      <td>696.7</td>\n",
       "      <td>28</td>\n",
       "      <td>18.29</td>\n",
       "    </tr>\n",
       "    <tr>\n",
       "      <th>5</th>\n",
       "      <td>255.0</td>\n",
       "      <td>0.0</td>\n",
       "      <td>0.0</td>\n",
       "      <td>192.0</td>\n",
       "      <td>0.0</td>\n",
       "      <td>889.8</td>\n",
       "      <td>945.0</td>\n",
       "      <td>90</td>\n",
       "      <td>21.86</td>\n",
       "    </tr>\n",
       "    <tr>\n",
       "      <th>6</th>\n",
       "      <td>166.8</td>\n",
       "      <td>250.2</td>\n",
       "      <td>0.0</td>\n",
       "      <td>203.5</td>\n",
       "      <td>0.0</td>\n",
       "      <td>975.6</td>\n",
       "      <td>692.6</td>\n",
       "      <td>7</td>\n",
       "      <td>15.75</td>\n",
       "    </tr>\n",
       "    <tr>\n",
       "      <th>7</th>\n",
       "      <td>251.4</td>\n",
       "      <td>0.0</td>\n",
       "      <td>118.3</td>\n",
       "      <td>188.5</td>\n",
       "      <td>6.4</td>\n",
       "      <td>1028.4</td>\n",
       "      <td>757.7</td>\n",
       "      <td>56</td>\n",
       "      <td>36.64</td>\n",
       "    </tr>\n",
       "    <tr>\n",
       "      <th>8</th>\n",
       "      <td>296.0</td>\n",
       "      <td>0.0</td>\n",
       "      <td>0.0</td>\n",
       "      <td>192.0</td>\n",
       "      <td>0.0</td>\n",
       "      <td>1085.0</td>\n",
       "      <td>765.0</td>\n",
       "      <td>28</td>\n",
       "      <td>21.65</td>\n",
       "    </tr>\n",
       "    <tr>\n",
       "      <th>9</th>\n",
       "      <td>155.0</td>\n",
       "      <td>184.0</td>\n",
       "      <td>143.0</td>\n",
       "      <td>194.0</td>\n",
       "      <td>9.0</td>\n",
       "      <td>880.0</td>\n",
       "      <td>699.0</td>\n",
       "      <td>28</td>\n",
       "      <td>28.99</td>\n",
       "    </tr>\n",
       "  </tbody>\n",
       "</table>\n",
       "</div>"
      ],
      "text/plain": [
       "   cement   slag    ash  water  superplastic  coarseagg  fineagg  age  \\\n",
       "0   141.3  212.0    0.0  203.5           0.0      971.8    748.5   28   \n",
       "1   168.9   42.2  124.3  158.3          10.8     1080.8    796.2   14   \n",
       "2   250.0    0.0   95.7  187.4           5.5      956.9    861.2   28   \n",
       "3   266.0  114.0    0.0  228.0           0.0      932.0    670.0   28   \n",
       "4   154.8  183.4    0.0  193.3           9.1     1047.4    696.7   28   \n",
       "5   255.0    0.0    0.0  192.0           0.0      889.8    945.0   90   \n",
       "6   166.8  250.2    0.0  203.5           0.0      975.6    692.6    7   \n",
       "7   251.4    0.0  118.3  188.5           6.4     1028.4    757.7   56   \n",
       "8   296.0    0.0    0.0  192.0           0.0     1085.0    765.0   28   \n",
       "9   155.0  184.0  143.0  194.0           9.0      880.0    699.0   28   \n",
       "\n",
       "   strength  \n",
       "0     29.89  \n",
       "1     23.51  \n",
       "2     29.22  \n",
       "3     45.85  \n",
       "4     18.29  \n",
       "5     21.86  \n",
       "6     15.75  \n",
       "7     36.64  \n",
       "8     21.65  \n",
       "9     28.99  "
      ]
     },
     "execution_count": 77,
     "metadata": {},
     "output_type": "execute_result"
    }
   ],
   "source": [
    "df.head(10)"
   ]
  },
  {
   "cell_type": "code",
   "execution_count": 78,
   "id": "696d88bf",
   "metadata": {},
   "outputs": [
    {
     "data": {
      "text/plain": [
       "(1030, 9)"
      ]
     },
     "execution_count": 78,
     "metadata": {},
     "output_type": "execute_result"
    }
   ],
   "source": [
    "df.shape"
   ]
  },
  {
   "cell_type": "code",
   "execution_count": 79,
   "id": "774f84ef",
   "metadata": {},
   "outputs": [
    {
     "data": {
      "text/plain": [
       "<seaborn.axisgrid.FacetGrid at 0x2013d4281f0>"
      ]
     },
     "execution_count": 79,
     "metadata": {},
     "output_type": "execute_result"
    },
    {
     "data": {
      "image/png": "[encoded data removed]",
      "text/plain": [
       "<Figure size 360x360 with 1 Axes>"
      ]
     },
     "metadata": {
      "needs_background": "light"
     },
     "output_type": "display_data"
    }
   ],
   "source": [
    "sns.displot(data = df, y ='strength',x = 'water')"
   ]
  },
  {
   "cell_type": "code",
   "execution_count": 80,
   "id": "f7932eaa",
   "metadata": {},
   "outputs": [
    {
     "data": {
      "text/plain": [
       "<AxesSubplot:>"
      ]
     },
     "execution_count": 80,
     "metadata": {},
     "output_type": "execute_result"
    },
    {
     "data": {
      "image/png": "[encoded data removed]",
      "text/plain": [
       "<Figure size 720x432 with 2 Axes>"
      ]
     },
     "metadata": {
      "needs_background": "light"
     },
     "output_type": "display_data"
    }
   ],
   "source": [
    "plt.figure(figsize = (10,6))\n",
    "sns.heatmap(df.isnull(),yticklabels = False)"
   ]
  },
  {
   "cell_type": "code",
   "execution_count": 81,
   "id": "05b5f3ca",
   "metadata": {},
   "outputs": [
    {
     "data": {
      "text/plain": [
       "<seaborn.axisgrid.FacetGrid at 0x2013d54b940>"
      ]
     },
     "execution_count": 81,
     "metadata": {},
     "output_type": "execute_result"
    },
    {
     "data": {
      "image/png": "[encoded data removed]",
      "text/plain": [
       "<Figure size 360x360 with 1 Axes>"
      ]
     },
     "metadata": {
      "needs_background": "light"
     },
     "output_type": "display_data"
    }
   ],
   "source": [
    "sns.displot(data = df,x = 'superplastic',y = 'strength')"
   ]
  },
  {
   "cell_type": "code",
   "execution_count": 82,
   "id": "38cac25a",
   "metadata": {},
   "outputs": [
    {
     "data": {
      "text/plain": [
       "[<matplotlib.lines.Line2D at 0x2013d60c610>]"
      ]
     },
     "execution_count": 82,
     "metadata": {},
     "output_type": "execute_result"
    },
    {
     "data": {
      "image/png": "[encoded data removed]",
      "text/plain": [
       "<Figure size 432x288 with 1 Axes>"
      ]
     },
     "metadata": {
      "needs_background": "light"
     },
     "output_type": "display_data"
    }
   ],
   "source": [
    "a = df['age']\n",
    "b = df['strength']\n",
    "plt.plot(a,b,color = 'r')\n"
   ]
  },
  {
   "cell_type": "code",
   "execution_count": null,
   "id": "0fbe4aae",
   "metadata": {},
   "outputs": [],
   "source": []
  },
  {
   "cell_type": "code",
   "execution_count": 83,
   "id": "6268035f",
   "metadata": {
    "scrolled": true
   },
   "outputs": [
    {
     "data": {
      "text/plain": [
       "cement          0\n",
       "slag            0\n",
       "ash             0\n",
       "water           0\n",
       "superplastic    0\n",
       "coarseagg       0\n",
       "fineagg         0\n",
       "age             0\n",
       "strength        0\n",
       "dtype: int64"
      ]
     },
     "execution_count": 83,
     "metadata": {},
     "output_type": "execute_result"
    }
   ],
   "source": [
    "df.isna().sum()   # no null values"
   ]
  },
  {
   "cell_type": "code",
   "execution_count": 84,
   "id": "a2f71300",
   "metadata": {},
   "outputs": [
    {
     "data": {
      "text/html": [
       "<div>\n",
       "<style scoped>\n",
       "    .dataframe tbody tr th:only-of-type {\n",
       "        vertical-align: middle;\n",
       "    }\n",
       "\n",
       "    .dataframe tbody tr th {\n",
       "        vertical-align: top;\n",
       "    }\n",
       "\n",
       "    .dataframe thead th {\n",
       "        text-align: right;\n",
       "    }\n",
       "</style>\n",
       "<table border=\"1\" class=\"dataframe\">\n",
       "  <thead>\n",
       "    <tr style=\"text-align: right;\">\n",
       "      <th></th>\n",
       "      <th>cement</th>\n",
       "      <th>slag</th>\n",
       "      <th>ash</th>\n",
       "      <th>water</th>\n",
       "      <th>superplastic</th>\n",
       "      <th>coarseagg</th>\n",
       "      <th>fineagg</th>\n",
       "      <th>age</th>\n",
       "    </tr>\n",
       "  </thead>\n",
       "  <tbody>\n",
       "    <tr>\n",
       "      <th>0</th>\n",
       "      <td>141.3</td>\n",
       "      <td>212.0</td>\n",
       "      <td>0.0</td>\n",
       "      <td>203.5</td>\n",
       "      <td>0.0</td>\n",
       "      <td>971.8</td>\n",
       "      <td>748.5</td>\n",
       "      <td>28</td>\n",
       "    </tr>\n",
       "    <tr>\n",
       "      <th>1</th>\n",
       "      <td>168.9</td>\n",
       "      <td>42.2</td>\n",
       "      <td>124.3</td>\n",
       "      <td>158.3</td>\n",
       "      <td>10.8</td>\n",
       "      <td>1080.8</td>\n",
       "      <td>796.2</td>\n",
       "      <td>14</td>\n",
       "    </tr>\n",
       "    <tr>\n",
       "      <th>2</th>\n",
       "      <td>250.0</td>\n",
       "      <td>0.0</td>\n",
       "      <td>95.7</td>\n",
       "      <td>187.4</td>\n",
       "      <td>5.5</td>\n",
       "      <td>956.9</td>\n",
       "      <td>861.2</td>\n",
       "      <td>28</td>\n",
       "    </tr>\n",
       "    <tr>\n",
       "      <th>3</th>\n",
       "      <td>266.0</td>\n",
       "      <td>114.0</td>\n",
       "      <td>0.0</td>\n",
       "      <td>228.0</td>\n",
       "      <td>0.0</td>\n",
       "      <td>932.0</td>\n",
       "      <td>670.0</td>\n",
       "      <td>28</td>\n",
       "    </tr>\n",
       "    <tr>\n",
       "      <th>4</th>\n",
       "      <td>154.8</td>\n",
       "      <td>183.4</td>\n",
       "      <td>0.0</td>\n",
       "      <td>193.3</td>\n",
       "      <td>9.1</td>\n",
       "      <td>1047.4</td>\n",
       "      <td>696.7</td>\n",
       "      <td>28</td>\n",
       "    </tr>\n",
       "    <tr>\n",
       "      <th>...</th>\n",
       "      <td>...</td>\n",
       "      <td>...</td>\n",
       "      <td>...</td>\n",
       "      <td>...</td>\n",
       "      <td>...</td>\n",
       "      <td>...</td>\n",
       "      <td>...</td>\n",
       "      <td>...</td>\n",
       "    </tr>\n",
       "    <tr>\n",
       "      <th>1025</th>\n",
       "      <td>135.0</td>\n",
       "      <td>0.0</td>\n",
       "      <td>166.0</td>\n",
       "      <td>180.0</td>\n",
       "      <td>10.0</td>\n",
       "      <td>961.0</td>\n",
       "      <td>805.0</td>\n",
       "      <td>28</td>\n",
       "    </tr>\n",
       "    <tr>\n",
       "      <th>1026</th>\n",
       "      <td>531.3</td>\n",
       "      <td>0.0</td>\n",
       "      <td>0.0</td>\n",
       "      <td>141.8</td>\n",
       "      <td>28.2</td>\n",
       "      <td>852.1</td>\n",
       "      <td>893.7</td>\n",
       "      <td>3</td>\n",
       "    </tr>\n",
       "    <tr>\n",
       "      <th>1027</th>\n",
       "      <td>276.4</td>\n",
       "      <td>116.0</td>\n",
       "      <td>90.3</td>\n",
       "      <td>179.6</td>\n",
       "      <td>8.9</td>\n",
       "      <td>870.1</td>\n",
       "      <td>768.3</td>\n",
       "      <td>28</td>\n",
       "    </tr>\n",
       "    <tr>\n",
       "      <th>1028</th>\n",
       "      <td>342.0</td>\n",
       "      <td>38.0</td>\n",
       "      <td>0.0</td>\n",
       "      <td>228.0</td>\n",
       "      <td>0.0</td>\n",
       "      <td>932.0</td>\n",
       "      <td>670.0</td>\n",
       "      <td>270</td>\n",
       "    </tr>\n",
       "    <tr>\n",
       "      <th>1029</th>\n",
       "      <td>540.0</td>\n",
       "      <td>0.0</td>\n",
       "      <td>0.0</td>\n",
       "      <td>173.0</td>\n",
       "      <td>0.0</td>\n",
       "      <td>1125.0</td>\n",
       "      <td>613.0</td>\n",
       "      <td>7</td>\n",
       "    </tr>\n",
       "  </tbody>\n",
       "</table>\n",
       "<p>1030 rows × 8 columns</p>\n",
       "</div>"
      ],
      "text/plain": [
       "      cement   slag    ash  water  superplastic  coarseagg  fineagg  age\n",
       "0      141.3  212.0    0.0  203.5           0.0      971.8    748.5   28\n",
       "1      168.9   42.2  124.3  158.3          10.8     1080.8    796.2   14\n",
       "2      250.0    0.0   95.7  187.4           5.5      956.9    861.2   28\n",
       "3      266.0  114.0    0.0  228.0           0.0      932.0    670.0   28\n",
       "4      154.8  183.4    0.0  193.3           9.1     1047.4    696.7   28\n",
       "...      ...    ...    ...    ...           ...        ...      ...  ...\n",
       "1025   135.0    0.0  166.0  180.0          10.0      961.0    805.0   28\n",
       "1026   531.3    0.0    0.0  141.8          28.2      852.1    893.7    3\n",
       "1027   276.4  116.0   90.3  179.6           8.9      870.1    768.3   28\n",
       "1028   342.0   38.0    0.0  228.0           0.0      932.0    670.0  270\n",
       "1029   540.0    0.0    0.0  173.0           0.0     1125.0    613.0    7\n",
       "\n",
       "[1030 rows x 8 columns]"
      ]
     },
     "execution_count": 84,
     "metadata": {},
     "output_type": "execute_result"
    }
   ],
   "source": [
    "x = df.drop(['strength'],axis = 1)\n",
    "x"
   ]
  },
  {
   "cell_type": "code",
   "execution_count": 85,
   "id": "9c7c1f9f",
   "metadata": {},
   "outputs": [
    {
     "data": {
      "text/plain": [
       "array([29.89, 23.51, 29.22, ..., 44.28, 55.06, 52.61])"
      ]
     },
     "execution_count": 85,
     "metadata": {},
     "output_type": "execute_result"
    }
   ],
   "source": [
    "y = np.array(df['strength'])\n",
    "y"
   ]
  },
  {
   "cell_type": "code",
   "execution_count": 86,
   "id": "33813b5e",
   "metadata": {
    "scrolled": true
   },
   "outputs": [
    {
     "data": {
      "text/html": [
       "<div>\n",
       "<style scoped>\n",
       "    .dataframe tbody tr th:only-of-type {\n",
       "        vertical-align: middle;\n",
       "    }\n",
       "\n",
       "    .dataframe tbody tr th {\n",
       "        vertical-align: top;\n",
       "    }\n",
       "\n",
       "    .dataframe thead th {\n",
       "        text-align: right;\n",
       "    }\n",
       "</style>\n",
       "<table border=\"1\" class=\"dataframe\">\n",
       "  <thead>\n",
       "    <tr style=\"text-align: right;\">\n",
       "      <th></th>\n",
       "      <th>cement</th>\n",
       "      <th>slag</th>\n",
       "      <th>ash</th>\n",
       "      <th>water</th>\n",
       "      <th>superplastic</th>\n",
       "      <th>coarseagg</th>\n",
       "      <th>fineagg</th>\n",
       "      <th>age</th>\n",
       "      <th>strength</th>\n",
       "    </tr>\n",
       "  </thead>\n",
       "  <tbody>\n",
       "    <tr>\n",
       "      <th>count</th>\n",
       "      <td>1030.000000</td>\n",
       "      <td>1030.000000</td>\n",
       "      <td>1030.000000</td>\n",
       "      <td>1030.000000</td>\n",
       "      <td>1030.000000</td>\n",
       "      <td>1030.000000</td>\n",
       "      <td>1030.000000</td>\n",
       "      <td>1030.000000</td>\n",
       "      <td>1030.000000</td>\n",
       "    </tr>\n",
       "    <tr>\n",
       "      <th>mean</th>\n",
       "      <td>281.167864</td>\n",
       "      <td>73.895825</td>\n",
       "      <td>54.188350</td>\n",
       "      <td>181.567282</td>\n",
       "      <td>6.204660</td>\n",
       "      <td>972.918932</td>\n",
       "      <td>773.580485</td>\n",
       "      <td>45.662136</td>\n",
       "      <td>35.817961</td>\n",
       "    </tr>\n",
       "    <tr>\n",
       "      <th>std</th>\n",
       "      <td>104.506364</td>\n",
       "      <td>86.279342</td>\n",
       "      <td>63.997004</td>\n",
       "      <td>21.354219</td>\n",
       "      <td>5.973841</td>\n",
       "      <td>77.753954</td>\n",
       "      <td>80.175980</td>\n",
       "      <td>63.169912</td>\n",
       "      <td>16.705742</td>\n",
       "    </tr>\n",
       "    <tr>\n",
       "      <th>min</th>\n",
       "      <td>102.000000</td>\n",
       "      <td>0.000000</td>\n",
       "      <td>0.000000</td>\n",
       "      <td>121.800000</td>\n",
       "      <td>0.000000</td>\n",
       "      <td>801.000000</td>\n",
       "      <td>594.000000</td>\n",
       "      <td>1.000000</td>\n",
       "      <td>2.330000</td>\n",
       "    </tr>\n",
       "    <tr>\n",
       "      <th>25%</th>\n",
       "      <td>192.375000</td>\n",
       "      <td>0.000000</td>\n",
       "      <td>0.000000</td>\n",
       "      <td>164.900000</td>\n",
       "      <td>0.000000</td>\n",
       "      <td>932.000000</td>\n",
       "      <td>730.950000</td>\n",
       "      <td>7.000000</td>\n",
       "      <td>23.710000</td>\n",
       "    </tr>\n",
       "    <tr>\n",
       "      <th>50%</th>\n",
       "      <td>272.900000</td>\n",
       "      <td>22.000000</td>\n",
       "      <td>0.000000</td>\n",
       "      <td>185.000000</td>\n",
       "      <td>6.400000</td>\n",
       "      <td>968.000000</td>\n",
       "      <td>779.500000</td>\n",
       "      <td>28.000000</td>\n",
       "      <td>34.445000</td>\n",
       "    </tr>\n",
       "    <tr>\n",
       "      <th>75%</th>\n",
       "      <td>350.000000</td>\n",
       "      <td>142.950000</td>\n",
       "      <td>118.300000</td>\n",
       "      <td>192.000000</td>\n",
       "      <td>10.200000</td>\n",
       "      <td>1029.400000</td>\n",
       "      <td>824.000000</td>\n",
       "      <td>56.000000</td>\n",
       "      <td>46.135000</td>\n",
       "    </tr>\n",
       "    <tr>\n",
       "      <th>max</th>\n",
       "      <td>540.000000</td>\n",
       "      <td>359.400000</td>\n",
       "      <td>200.100000</td>\n",
       "      <td>247.000000</td>\n",
       "      <td>32.200000</td>\n",
       "      <td>1145.000000</td>\n",
       "      <td>992.600000</td>\n",
       "      <td>365.000000</td>\n",
       "      <td>82.600000</td>\n",
       "    </tr>\n",
       "  </tbody>\n",
       "</table>\n",
       "</div>"
      ],
      "text/plain": [
       "            cement         slag          ash        water  superplastic  \\\n",
       "count  1030.000000  1030.000000  1030.000000  1030.000000   1030.000000   \n",
       "mean    281.167864    73.895825    54.188350   181.567282      6.204660   \n",
       "std     104.506364    86.279342    63.997004    21.354219      5.973841   \n",
       "min     102.000000     0.000000     0.000000   121.800000      0.000000   \n",
       "25%     192.375000     0.000000     0.000000   164.900000      0.000000   \n",
       "50%     272.900000    22.000000     0.000000   185.000000      6.400000   \n",
       "75%     350.000000   142.950000   118.300000   192.000000     10.200000   \n",
       "max     540.000000   359.400000   200.100000   247.000000     32.200000   \n",
       "\n",
       "         coarseagg      fineagg          age     strength  \n",
       "count  1030.000000  1030.000000  1030.000000  1030.000000  \n",
       "mean    972.918932   773.580485    45.662136    35.817961  \n",
       "std      77.753954    80.175980    63.169912    16.705742  \n",
       "min     801.000000   594.000000     1.000000     2.330000  \n",
       "25%     932.000000   730.950000     7.000000    23.710000  \n",
       "50%     968.000000   779.500000    28.000000    34.445000  \n",
       "75%    1029.400000   824.000000    56.000000    46.135000  \n",
       "max    1145.000000   992.600000   365.000000    82.600000  "
      ]
     },
     "execution_count": 86,
     "metadata": {},
     "output_type": "execute_result"
    }
   ],
   "source": [
    "df.describe()"
   ]
  },
  {
   "cell_type": "code",
   "execution_count": 87,
   "id": "ad3f227b",
   "metadata": {},
   "outputs": [],
   "source": [
    "x_train,x_test,y_train,y_test = train_test_split(x,y,random_state = 1)"
   ]
  },
  {
   "cell_type": "code",
   "execution_count": 88,
   "id": "5a8b039e",
   "metadata": {},
   "outputs": [
    {
     "data": {
      "text/plain": [
       "array([30.14, 15.53, 27.83, 27.92, 40.23, 54.38, 36.35, 35.23, 25.22,\n",
       "       31.72, 31.35, 40.57, 52.45, 44.28,  8.54, 50.94, 39.64, 29.65,\n",
       "       13.71, 30.08, 27.23, 47.1 , 42.14, 54.32, 40.86, 61.92,  9.74,\n",
       "       23.84, 33.3 , 26.85, 49.8 , 45.7 , 33.76, 77.3 , 31.38, 51.04,\n",
       "       56.83, 38.7 , 39.58, 19.01, 45.08, 14.7 , 55.25, 15.62,  9.01,\n",
       "       55.65, 19.99, 42.64, 45.37, 47.28, 55.45, 22.53, 64.9 , 11.36,\n",
       "       32.82, 40.87, 39.3 , 10.38,  6.9 , 58.8 , 28.68, 15.57, 33.  ,\n",
       "       25.69, 33.8 , 44.09, 55.55, 52.83, 13.22, 44.52, 35.08, 48.7 ,\n",
       "       34.57, 15.82, 54.1 , 40.93, 21.26, 33.94, 51.06, 52.91, 17.2 ,\n",
       "       43.58, 41.16, 44.39, 25.75, 45.08, 41.64, 27.04, 29.89, 40.27,\n",
       "       20.73, 44.7 , 28.63, 24.24, 25.37, 77.3 , 32.25, 13.4 , 26.91,\n",
       "       30.12, 39.05, 79.3 , 79.4 , 67.7 , 19.35, 53.3 , 47.97, 17.17,\n",
       "       44.13, 11.39, 31.97, 40.15, 47.4 , 71.7 , 26.94, 56.7 , 21.5 ,\n",
       "       18.13, 27.66, 26.23, 24.13, 36.44, 79.3 , 33.31,  9.99, 22.75,\n",
       "       15.69, 35.23, 39.38,  3.32, 32.76, 56.5 , 24.28, 23.8 , 81.75,\n",
       "       74.99, 52.04, 12.18, 25.42, 50.24, 30.65, 57.22, 33.12, 29.45,\n",
       "       55.02, 40.2 , 24.34, 32.1 , 29.79, 32.05, 29.41, 43.38, 39.66,\n",
       "       15.34, 23.89,  4.83, 31.25, 74.36, 21.78, 26.06, 66.1 , 35.3 ,\n",
       "       46.25, 74.5 , 53.72, 12.47, 12.46, 53.1 , 40.15, 38.8 , 42.92,\n",
       "       31.64, 61.46, 43.57, 24.45, 33.73, 40.76, 10.79,  6.94, 37.36,\n",
       "       37.27, 23.35, 54.9 , 55.51,  9.13, 42.23, 29.39, 65.7 , 24.4 ,\n",
       "       24.07, 41.05, 27.63, 48.4 , 43.58, 44.28, 47.03, 80.2 , 51.72,\n",
       "       22.44, 39.29, 19.93, 73.7 , 30.23, 51.86, 12.64, 17.54, 44.61,\n",
       "       57.21, 37.36, 39.45, 29.55, 33.7 , 57.23, 17.24, 20.59, 35.87,\n",
       "       10.34, 14.2 , 36.8 , 37.34, 18.03,  7.75, 25.18,  9.85, 33.72,\n",
       "       24.54, 21.91, 55.9 , 25.89,  9.45, 25.56, 12.18, 42.13, 58.61,\n",
       "       53.52, 32.4 , 30.28, 33.8 , 38.22, 19.54, 41.41, 44.3 , 30.44,\n",
       "       33.21, 23.64, 43.39, 11.58, 20.92, 69.66, 23.08, 37.27, 14.31,\n",
       "       60.2 , 42.62, 14.54, 37.43, 13.29, 41.24, 29.72, 29.87, 40.93,\n",
       "       28.99,  9.62, 32.04, 31.27, 28.3 , 52.01, 25.02, 64.3 , 68.1 ,\n",
       "       66.9 , 49.2 , 13.2 , 46.39, 26.4 ,  6.28, 25.2 , 23.79,  9.74,\n",
       "       17.54, 42.55, 66.82, 18.13, 44.3 , 61.07, 18.29, 36.44, 27.34,\n",
       "       33.56, 17.22, 37.33, 33.66, 78.8 , 16.5 , 33.09, 33.08, 37.81,\n",
       "       21.29, 15.07, 49.77, 19.69, 33.01, 55.5 , 31.65, 50.7 , 24.1 ,\n",
       "       37.42, 46.23, 51.02, 31.9 ,  8.54, 37.27,  9.69, 31.18, 61.86,\n",
       "       31.42, 12.73, 69.84, 40.56, 40.86, 28.6 , 40.66, 32.07, 31.97,\n",
       "       46.23, 55.83, 31.18, 33.4 , 74.7 , 18.03, 43.89, 45.84, 32.63,\n",
       "       37.96, 47.82, 33.69, 38.61, 44.14,  9.73, 43.73, 35.3 , 50.66,\n",
       "       69.3 , 35.75, 33.4 , 32.77, 62.94, 25.18, 35.36, 11.96, 23.69,\n",
       "       13.33, 13.46, 60.29, 36.8 , 15.04, 35.34, 70.7 , 47.74, 30.12,\n",
       "       58.78, 16.89, 56.74, 56.61, 41.84, 19.52, 76.8 , 74.19,  6.27,\n",
       "       38.33, 12.79, 22.35, 21.91, 27.68, 16.88, 23.85, 11.17, 26.32,\n",
       "       37.44, 43.5 , 17.37, 59.3 , 29.23, 22.5 , 52.3 , 52.44, 31.35,\n",
       "       13.29, 33.4 , 12.55, 28.8 , 44.52, 43.06, 43.7 , 17.6 , 38.6 ,\n",
       "       11.41, 40.71, 40.86, 26.15, 59.  , 17.95, 37.81, 18.42, 21.86,\n",
       "       10.09, 23.51, 39.59, 50.95, 38.89, 34.67, 56.06, 31.42, 48.59,\n",
       "       17.28, 32.85, 53.77, 21.82, 32.72, 24.4 , 23.52, 44.52, 13.46,\n",
       "       35.17, 58.52, 34.56, 17.84, 19.99, 29.59, 47.71, 47.22, 41.3 ,\n",
       "       24.89, 24.05, 42.8 , 26.06, 44.61,  9.56, 36.3 , 59.89, 38.77,\n",
       "       31.88, 28.02, 48.85, 50.77, 55.16,  4.57, 14.6 , 45.94,  6.88,\n",
       "       39.  , 42.13, 55.64, 41.2 , 42.03, 67.11, 63.4 , 14.84, 37.92,\n",
       "       33.61, 38.2 , 41.05,  2.33, 36.59, 25.62, 38.56, 43.7 , 35.31,\n",
       "       24.85, 41.37, 43.7 , 60.28, 37.68, 32.53, 29.07, 49.99, 60.95,\n",
       "       17.96, 23.52, 79.3 , 21.6 , 63.53, 64.3 , 41.54, 15.34, 66.7 ,\n",
       "       39.15, 35.57, 48.15, 67.31, 41.1 , 64.9 , 53.46, 37.17, 35.23,\n",
       "       32.96, 17.54, 33.04, 47.71, 39.3 , 25.73, 10.73, 34.24, 52.61,\n",
       "       27.92, 34.74, 52.82, 11.47, 23.14, 12.46, 59.2 , 31.35, 31.74,\n",
       "       39.  , 39.78, 52.42, 25.18, 27.22, 28.94, 24.39, 23.74, 56.1 ,\n",
       "       38.63, 43.57, 31.81, 35.34, 21.54, 12.37, 30.85, 20.28, 16.11,\n",
       "       27.68, 27.53, 49.9 , 59.8 , 25.1 , 41.72, 72.1 , 41.54, 15.03,\n",
       "       54.9 , 10.76, 21.95, 34.68, 34.4 , 64.9 , 36.45, 50.51, 39.94,\n",
       "       32.9 , 39.23, 27.74, 62.05, 45.9 , 34.2 , 33.96, 13.62, 41.93,\n",
       "       37.4 , 21.92, 48.28, 35.3 , 40.39, 15.09, 32.33, 37.26, 46.68,\n",
       "       24.43, 34.49,  7.4 , 33.8 , 59.09, 18.91, 52.2 , 52.52, 71.3 ,\n",
       "       25.48, 24.  , 15.58, 18.02, 41.68, 39.32, 13.12, 22.14,  7.68,\n",
       "       48.72, 49.2 , 16.28, 38.6 , 43.25, 27.87, 33.4 , 29.93, 13.36,\n",
       "       57.03, 39.36, 36.15, 26.14, 10.03, 32.66, 26.05, 52.91, 12.45,\n",
       "       43.01, 39.61, 38.5 , 61.23, 59.59, 79.99, 10.54, 27.77, 25.56,\n",
       "       29.87, 41.89, 64.3 , 44.03, 14.14, 30.88, 33.72, 41.68, 39.27,\n",
       "       73.3 , 34.29, 29.59, 15.87, 18.13, 36.35, 36.97, 71.3 , 22.93,\n",
       "       23.52, 50.6 , 72.3 , 17.57, 24.5 , 17.44, 19.77, 31.87, 72.99,\n",
       "       36.94,  7.32, 36.94, 42.64, 19.42, 28.63, 44.28, 41.15, 68.5 ,\n",
       "       51.96, 44.64, 71.99, 39.7 , 44.4 , 44.33, 31.35, 28.24, 31.12,\n",
       "       34.9 , 33.69, 31.54,  9.87, 32.84, 22.84, 52.12, 77.3 , 36.56,\n",
       "       51.26, 52.43, 20.97, 26.31, 21.07, 12.54, 29.73, 38.46, 57.6 ,\n",
       "       26.23, 39.42, 44.42, 13.52, 41.05, 55.9 , 23.84, 29.07, 25.72,\n",
       "       66.  , 33.19, 37.23, 36.3 , 20.42, 55.2 , 28.63, 37.42, 40.87,\n",
       "       26.92, 71.3 , 17.34, 45.3 , 26.77, 41.05, 49.97, 39.3 , 42.13,\n",
       "       23.74, 15.52, 52.96, 29.75, 49.19, 33.05, 23.52, 36.99, 23.4 ,\n",
       "       63.14, 15.44, 40.29, 24.28, 24.99, 21.18, 35.96, 50.46,  6.81,\n",
       "       50.53, 11.85, 61.09, 25.51, 66.95, 13.09, 65.91, 39.49, 30.22,\n",
       "       39.6 , 15.09, 74.17, 48.99, 22.32, 31.84, 36.64, 56.14, 30.39,\n",
       "       67.57, 53.9 , 21.06, 22.9 , 38.02, 32.01, 26.97, 44.21, 42.42,\n",
       "       39.42, 22.95, 22.72, 33.49, 26.86, 53.58, 19.69, 17.82,  8.06,\n",
       "       33.27, 37.91, 43.38, 43.94, 25.46, 39.7 , 21.48, 32.96, 14.94,\n",
       "       62.5 , 26.74, 21.02, 14.4 , 33.42, 40.06,  6.47])"
      ]
     },
     "execution_count": 88,
     "metadata": {},
     "output_type": "execute_result"
    }
   ],
   "source": [
    "y_train"
   ]
  },
  {
   "cell_type": "code",
   "execution_count": 89,
   "id": "d1ee0373",
   "metadata": {},
   "outputs": [
    {
     "data": {
      "text/plain": [
       "array([47.78, 48.79, 33.7 , 18.28, 14.99, 24.92, 55.9 , 65.2 , 16.5 ,\n",
       "       25.57, 35.76,  7.84, 40.93, 30.96, 45.37, 35.1 , 39.16, 19.42,\n",
       "       25.08, 33.73, 22.44, 38.  , 10.22, 45.3 , 33.36, 61.8 , 39.38,\n",
       "       33.4 , 38.21, 33.76, 15.75, 37.43, 30.57, 47.81, 28.47, 42.33,\n",
       "       11.65, 14.2 , 17.96, 54.6 , 11.98, 33.06, 75.5 , 82.6 , 42.22,\n",
       "       41.94, 23.7 , 13.52, 32.24, 50.73, 61.99, 22.49, 13.18, 14.64,\n",
       "       16.26, 44.87,  4.9 , 33.95,  8.49, 51.73, 37.91, 60.32, 18.2 ,\n",
       "       77.3 , 54.77, 49.2 , 20.87,  8.2 , 19.2 , 20.77, 27.42, 32.88,\n",
       "       57.92, 53.66, 56.4 ,  8.37, 36.25, 68.3 , 13.54, 24.1 , 15.57,\n",
       "       12.18, 44.86, 18.  , 52.5 , 61.89, 46.24, 11.47, 29.98, 38.7 ,\n",
       "       61.24, 41.37, 39.46, 19.77, 38.46, 24.48, 36.96, 23.79, 27.94,\n",
       "        7.51, 32.72, 65.2 , 46.93, 14.59, 43.8 , 20.08, 41.54, 11.48,\n",
       "       35.3 , 33.02,  7.72, 56.62, 46.2 , 23.22, 22.63, 13.57, 52.2 ,\n",
       "       42.35, 26.26, 39.84, 17.58, 56.34, 50.08, 41.67, 29.16, 38.41,\n",
       "       65.91, 39.44, 17.24, 18.75, 46.64, 37.43, 66.6 , 39.06, 25.45,\n",
       "       45.85, 45.71, 32.11, 53.96, 21.16, 19.01, 21.97, 37.17, 40.06,\n",
       "       46.68, 47.13, 29.22, 13.2 , 28.1 , 42.7 , 37.72, 24.58, 59.49,\n",
       "       33.42, 79.3 , 13.82, 25.61, 26.92, 39.4 , 15.52, 36.84, 12.05,\n",
       "       21.86, 54.28, 30.45, 33.4 , 23.25, 53.39, 39.09, 51.33, 21.65,\n",
       "       25.97, 48.67, 14.99, 67.8 , 46.23, 13.66, 12.84, 10.39, 55.26,\n",
       "       36.45, 31.03, 55.6 , 38.11, 29.  , 51.04, 10.35, 67.87, 15.05,\n",
       "       60.29, 15.61, 48.97, 31.02, 12.25, 53.52, 66.78,  8.  , 56.63,\n",
       "       24.44, 51.43, 65.2 , 42.29, 49.77, 32.4 , 24.66, 49.25, 19.11,\n",
       "       71.3 , 24.9 , 29.55, 37.8 , 56.14, 33.54, 76.24, 56.81, 34.77,\n",
       "       64.02, 15.42, 32.72, 14.8 , 25.12, 66.42, 24.  , 24.29, 46.8 ,\n",
       "       59.76, 21.75, 26.2 , 71.62, 56.85, 10.54, 38.07, 40.68, 46.9 ,\n",
       "       55.94,  4.78, 25.1 , 39.  , 60.29, 15.42, 37.92, 51.02, 44.21,\n",
       "       28.99, 15.36,  9.31, 31.45, 55.06, 40.6 , 55.55, 20.73, 26.86,\n",
       "       35.85, 35.86, 68.75, 53.69, 32.92, 14.5 ])"
      ]
     },
     "execution_count": 89,
     "metadata": {},
     "output_type": "execute_result"
    }
   ],
   "source": [
    "y_test"
   ]
  },
  {
   "cell_type": "code",
   "execution_count": 90,
   "id": "772d7354",
   "metadata": {},
   "outputs": [],
   "source": [
    "model = LinearRegression()"
   ]
  },
  {
   "cell_type": "code",
   "execution_count": 91,
   "id": "60d36133",
   "metadata": {},
   "outputs": [
    {
     "data": {
      "text/plain": [
       "LinearRegression()"
      ]
     },
     "execution_count": 91,
     "metadata": {},
     "output_type": "execute_result"
    }
   ],
   "source": [
    "model.fit(x_train,y_train)"
   ]
  },
  {
   "cell_type": "code",
   "execution_count": 92,
   "id": "6d45ca47",
   "metadata": {},
   "outputs": [
    {
     "name": "stdout",
     "output_type": "stream",
     "text": [
      "(258,) (258,)\n"
     ]
    }
   ],
   "source": [
    "y_pred = model.predict(x_test)\n",
    "print(y_test.shape,y_pred.shape)"
   ]
  },
  {
   "cell_type": "code",
   "execution_count": 93,
   "id": "5c546a95",
   "metadata": {},
   "outputs": [
    {
     "data": {
      "text/plain": [
       "array([34.87323597, 37.00986519, 33.22070812, 23.64964648, 21.29257772,\n",
       "       25.86799321, 51.76237672, 65.42656736, 22.76256518, 21.22395866,\n",
       "       30.88713434, 12.13604709, 36.52368081, 17.68810452, 45.37001326,\n",
       "       46.85569296, 31.82252622, 25.4086546 , 53.0635631 , 32.78210737,\n",
       "       21.07055342, 48.46020957, 15.79442048, 42.43121336, 35.74780672,\n",
       "       58.37100077, 36.91089685, 55.58058858, 30.81181851, 40.49893842,\n",
       "       23.94578143, 29.92979479, 26.18415759, 20.15633149, 27.80102118,\n",
       "       25.19066361, 18.4268056 , 19.10845618, 16.32670023, 43.17936251,\n",
       "       24.69206117, 25.58534255, 60.97093279, 70.34924849, 35.93497582,\n",
       "       39.20392998, 26.22664498, 20.33034413, 26.41784981, 41.48668634,\n",
       "       42.54497376, 34.28709798, 25.21776787, 21.06318377, 23.24445253,\n",
       "       28.43593513, 15.10588884, 26.29539   , 23.78329873, 46.59857065,\n",
       "       33.55431317, 40.63419297, 23.88355485, 57.24479672, 55.66486544,\n",
       "       56.02813307, 19.11331659, 15.34687599, 28.30973079, 20.77555566,\n",
       "       36.61500927, 27.93629637, 52.26866946, 41.41687726, 65.86715483,\n",
       "       13.97709166, 43.76547295, 56.71045135, 27.07593347, 46.40814847,\n",
       "       24.84776941, 16.78171518, 28.2270631 , 25.27019794, 37.50138153,\n",
       "       52.51567146, 33.25405964, 15.56971676, 28.11918675, 42.60917814,\n",
       "       44.6935523 , 49.88612647, 35.01471832, 18.03858407, 36.87154714,\n",
       "       23.86864899, 27.79250809, 25.74766641, 34.1916255 , 21.53394627,\n",
       "       41.99306594, 65.42656736, 35.26041464, 23.09386757, 39.29702123,\n",
       "       22.30224328, 36.86673439, 15.68897549, 51.31483223, 28.34428856,\n",
       "       11.61387634, 42.01468148, 51.74109725, 28.12703046, 25.01510561,\n",
       "       25.13914331, 34.44458903, 35.49019974, 24.40917376, 33.45466657,\n",
       "       16.56789555, 55.25155909, 42.4043139 , 48.77221931, 27.07418731,\n",
       "       53.83522398, 47.09329709, 47.52131672, 30.5935939 , 18.14402905,\n",
       "       37.48132451, 31.66588968, 58.06284642, 31.14616059, 30.4844795 ,\n",
       "       19.522129  , 28.067351  , 48.30344072, 37.57740046, 24.5986224 ,\n",
       "       23.65748214, 20.9057244 , 31.78075675, 29.81556865, 51.12182789,\n",
       "       31.14773236, 27.43439892, 18.99965023, 49.2917442 , 31.83560818,\n",
       "       35.28122816, 31.74318767, 50.30993272, 31.83377563, 61.16081101,\n",
       "       24.63724586, 50.08051644, 25.17675256, 30.78603703, 24.4759189 ,\n",
       "       49.76913908, 14.16992336, 25.08096865, 46.62865642, 36.77293993,\n",
       "       55.58058858, 24.03853583, 52.53205401, 32.87696535, 36.70315835,\n",
       "       21.58541839, 19.7078417 , 36.53906557, 26.10788404, 56.25412725,\n",
       "       39.73189025, 19.42494581, 13.69310219, 18.43660631, 57.86195478,\n",
       "       41.25420221, 22.50196957, 54.36084278, 60.78837897, 56.9168238 ,\n",
       "       40.09679716, 14.50914185, 46.89750665, 26.1411126 , 58.37774165,\n",
       "       31.18750108, 44.27097619, 25.06336755, 14.48565566, 39.01136697,\n",
       "       53.44274415, 19.54098823, 42.50038985, 40.25956957, 37.91992527,\n",
       "       65.42656736, 35.50233732, 37.38075904, 32.20755584, 25.01404608,\n",
       "       29.31304857, 27.27577253, 54.11198529, 25.26293882, 49.4715164 ,\n",
       "       53.91329829, 56.14486385, 31.30663305, 50.39615625, 40.95071484,\n",
       "       48.32467482, 47.1224772 , 27.67817594, 25.7190528 , 19.5464709 ,\n",
       "       47.51277966, 45.55718236, 28.87680847, 16.85875042, 56.0213922 ,\n",
       "       48.36147628, 20.42144802, 24.01367764, 66.93457261, 39.83596978,\n",
       "       18.23655422, 30.34973193, 35.48609188, 63.51754626, 46.4418484 ,\n",
       "       13.52954717, 28.02180399, 64.46440562, 58.37774165, 27.80371346,\n",
       "       35.97737515, 49.83833803, 42.45016677, 32.92113782, 32.18546583,\n",
       "       13.549721  , 25.59406111, 47.86697563, 60.50326971, 51.83187525,\n",
       "       29.02537316, 26.21514462, 32.84056683, 36.72195751, 53.44274415,\n",
       "       55.9593473 , 28.64565585, 18.72094484])"
      ]
     },
     "execution_count": 93,
     "metadata": {},
     "output_type": "execute_result"
    }
   ],
   "source": [
    "y_pred\n"
   ]
  },
  {
   "cell_type": "code",
   "execution_count": 94,
   "id": "3c0e66b7",
   "metadata": {
    "scrolled": false
   },
   "outputs": [
    {
     "data": {
      "image/png": "[encoded data removed]",
      "text/plain": [
       "<Figure size 432x288 with 1 Axes>"
      ]
     },
     "metadata": {
      "needs_background": "light"
     },
     "output_type": "display_data"
    }
   ],
   "source": [
    "\n",
    "plt.plot(y_pred,x_test['age'],color = 'red',label = \"predicted\")\n",
    "plt.plot(y_test,x_test['age'],color = 'blue',label = \"actual\")\n",
    "plt.legend()\n",
    "plt.show()"
   ]
  },
  {
   "cell_type": "code",
   "execution_count": 95,
   "id": "d31c4ca3",
   "metadata": {},
   "outputs": [],
   "source": [
    "         ######### by Ujjwal Mathur ##########"
   ]
  }
 ],
 "metadata": {
  "kernelspec": {
   "display_name": "Python 3 (ipykernel)",
   "language": "python",
   "name": "python3"
  },
  "language_info": {
   "codemirror_mode": {
    "name": "ipython",
    "version": 3
   },
   "file_extension": ".py",
   "mimetype": "text/x-python",
   "name": "python",
   "nbconvert_exporter": "python",
   "pygments_lexer": "ipython3",
   "version": "3.9.12"
  }
 },
 "nbformat": 4,
 "nbformat_minor": 5
}
